{
 "cells": [
  {
   "cell_type": "markdown",
   "metadata": {},
   "source": [
    "## Exercise: Python Dict and Tuples\n",
    "\n",
    "1. We have following information on countries and their population (population is in crores),\n",
    "\n",
    "    |Country|Population|\n",
    "    |-------|----------|\n",
    "    |China|143|\n",
    "    |India|136|\n",
    "    |USA|32|\n",
    "    |Pakistan|21|\n",
    "    1. Using above create a dictionary of countries and its population\n",
    "    2. Write a program that asks user for three type of inputs,\n",
    "        1. print: if user enter print then it should print all countries with their population in this format,\n",
    "            ```\n",
    "            china==>143\n",
    "            india==>136\n",
    "            usa==>32\n",
    "            pakistan==>21\n",
    "            ```\n",
    "        1. add: if user input add then it should further ask for a country name to add. If country already exist in our dataset then it should print that it exist and do nothing. If it doesn't then it asks for population and add that new country/population in our dictionary and print it\n",
    "        2. remove: when user inputs remove it should ask for a country to remove. If country exist in our dictionary then remove it and print new dictionary using format shown above in (a). Else print that country doesn't exist!\n",
    "        3. query: on this again ask user for which country he or she wants to query. When user inputs that country it will print population of that country.\n",
    "\n"
   ]
  },
  {
   "cell_type": "code",
   "execution_count": 19,
   "metadata": {},
   "outputs": [],
   "source": [
    "def print_countries(country_info):\n",
    "    for key,value in country_info.items():\n",
    "        print(f\"{key}: {value}\")\n",
    "    \n",
    "    \n",
    "    "
   ]
  },
  {
   "cell_type": "code",
   "execution_count": 20,
   "metadata": {},
   "outputs": [],
   "source": [
    "def add_item(country_info):\n",
    "    country_name= input('Please enter the name of the country you wish to add: ')\n",
    "    if country_name in country_info:\n",
    "        print('this country is already available')\n",
    "    else :\n",
    "        population = input('please enter the population of the country')\n",
    "        country_info.update({country_name:population})\n",
    "        print (f\"{country_name}: {population}\")"
   ]
  },
  {
   "cell_type": "code",
   "execution_count": null,
   "metadata": {},
   "outputs": [],
   "source": [
    "def remove_country(country_info):\n",
    "    countryToRemove= input('please enter the country to remove: ')\n",
    "    try:\n",
    "        country_info.pop(countryToRemove)\n",
    "        countries= country_info\n",
    "        print('successfully removed, here is the new list of countries \\n ', country_info)\n",
    "        \n",
    "    except Exception as x :\n",
    "        print('it appears this country is not on the list. ')   \n",
    "    "
   ]
  },
  {
   "cell_type": "code",
   "execution_count": 22,
   "metadata": {},
   "outputs": [],
   "source": [
    "def queryy(country_info):\n",
    "    query= input('which country do you want to query? ')\n",
    "    if query in country_info:\n",
    "        print(country_info[query])\n",
    "    else:\n",
    "        print('sorry, the country entered is not in the list')\n",
    "    "
   ]
  },
  {
   "cell_type": "code",
   "execution_count": 4,
   "metadata": {},
   "outputs": [],
   "source": [
    "country_info={\n",
    "    'china': 143,\n",
    "    'india':136,\n",
    "    'USA':32,\n",
    "    'pakistan':21\n",
    "}\n"
   ]
  },
  {
   "cell_type": "code",
   "execution_count": null,
   "metadata": {},
   "outputs": [],
   "source": [
    "def main():\n",
    "    User_input= int(input(\n",
    "        '''Hello, please pick from the options below:\\n\n",
    "        1. Print all countries.\\n\n",
    "        2. Add a country.\\n\n",
    "        3. Remove a country.\\n\n",
    "        4. Query.\n",
    "        '''\n",
    "        if User_input==1:\n",
    "            print_countries()\n",
    "        elif User_input==2:\n",
    "            add_item()\n",
    "        elif User_input==3:\n",
    "            \n",
    "            \n",
    "    ))"
   ]
  },
  {
   "cell_type": "code",
   "execution_count": 5,
   "metadata": {},
   "outputs": [
    {
     "data": {
      "text/plain": [
       "143"
      ]
     },
     "execution_count": 5,
     "metadata": {},
     "output_type": "execute_result"
    }
   ],
   "source": [
    "country_info['china']"
   ]
  },
  {
   "cell_type": "code",
   "execution_count": 6,
   "metadata": {},
   "outputs": [
    {
     "name": "stdout",
     "output_type": "stream",
     "text": [
      "china: 143\n",
      "india: 136\n",
      "USA: 32\n",
      "pakistan: 21\n"
     ]
    }
   ],
   "source": [
    "# print\n",
    "for key,value in country_info.items():\n",
    "    print(f\"{key}: {value}\")"
   ]
  },
  {
   "cell_type": "code",
   "execution_count": 11,
   "metadata": {},
   "outputs": [],
   "source": [
    "# add\n",
    "country_info.update({'Nigeria':100})"
   ]
  },
  {
   "cell_type": "code",
   "execution_count": 15,
   "metadata": {},
   "outputs": [
    {
     "data": {
      "text/plain": [
       "{'china': 143, 'india': 136, 'USA': 32, 'pakistan': 21}"
      ]
     },
     "execution_count": 15,
     "metadata": {},
     "output_type": "execute_result"
    }
   ],
   "source": [
    "country_info"
   ]
  },
  {
   "cell_type": "code",
   "execution_count": null,
   "metadata": {},
   "outputs": [],
   "source": [
    "#remove\n",
    "country_info.pop('Nigeria')"
   ]
  },
  {
   "cell_type": "code",
   "execution_count": 21,
   "metadata": {},
   "outputs": [
    {
     "name": "stdout",
     "output_type": "stream",
     "text": [
      "143\n"
     ]
    }
   ],
   "source": [
    "# query\n",
    "query= input('which country do you want to query? ')\n",
    "if query in country_info:\n",
    "    print(country_info[query])\n",
    "else:\n",
    "    print('sorry, the country entered is not in the list')\n",
    "    "
   ]
  },
  {
   "cell_type": "code",
   "execution_count": null,
   "metadata": {},
   "outputs": [],
   "source": []
  }
 ],
 "metadata": {
  "kernelspec": {
   "display_name": "base",
   "language": "python",
   "name": "python3"
  },
  "language_info": {
   "codemirror_mode": {
    "name": "ipython",
    "version": 3
   },
   "file_extension": ".py",
   "mimetype": "text/x-python",
   "name": "python",
   "nbconvert_exporter": "python",
   "pygments_lexer": "ipython3",
   "version": "3.9.12"
  }
 },
 "nbformat": 4,
 "nbformat_minor": 2
}
