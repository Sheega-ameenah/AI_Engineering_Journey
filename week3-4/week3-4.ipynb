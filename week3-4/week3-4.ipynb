{
 "cells": [
  {
   "cell_type": "code",
   "execution_count": 1,
   "metadata": {},
   "outputs": [],
   "source": [
    "tom_exp_list = [2100,3400,3500]\n",
    "joe_exp_list = [200,500,700]"
   ]
  },
  {
   "cell_type": "markdown",
   "metadata": {},
   "source": [
    "Creating a function to calculate the expenses of tom and joe"
   ]
  },
  {
   "cell_type": "code",
   "execution_count": 2,
   "metadata": {},
   "outputs": [
    {
     "name": "stdout",
     "output_type": "stream",
     "text": [
      "9000\n"
     ]
    }
   ],
   "source": [
    "# first , try it the normal way.\n",
    "total= 0\n",
    "for item in tom_exp_list:\n",
    "    total += item\n",
    "print (total)\n"
   ]
  },
  {
   "cell_type": "code",
   "execution_count": 3,
   "metadata": {},
   "outputs": [
    {
     "name": "stdout",
     "output_type": "stream",
     "text": [
      "9000\n"
     ]
    }
   ],
   "source": [
    "def expense_calculator(exp):\n",
    "    total = 0\n",
    "    for item in exp:\n",
    "        total += item\n",
    "    return total\n",
    "\n",
    "tom_exp_list = [2100, 3400, 3500]\n",
    "joe_exp_list = [200, 500, 700]\n",
    "tomExpenses = expense_calculator(tom_exp_list)\n",
    "print(tomExpenses)\n",
    "\n",
    "    \n",
    "    \n",
    "    "
   ]
  },
  {
   "cell_type": "code",
   "execution_count": null,
   "metadata": {},
   "outputs": [],
   "source": [
    "# Trial: function to calculate the sum of two numbers.\n",
    "a= int(input('enter the first number: '))\n",
    "b= int(input('enter the second number: '))\n",
    "sum = a + b\n",
    "sum"
   ]
  },
  {
   "cell_type": "code",
   "execution_count": 14,
   "metadata": {},
   "outputs": [],
   "source": [
    "# putting it in a function\n",
    "def summer (a,b):\n",
    "    sum = a + b\n",
    "    return sum\n",
    "    "
   ]
  },
  {
   "cell_type": "code",
   "execution_count": null,
   "metadata": {},
   "outputs": [],
   "source": [
    "summer(2,2)"
   ]
  },
  {
   "cell_type": "markdown",
   "metadata": {},
   "source": [
    "JSON\n"
   ]
  },
  {
   "cell_type": "code",
   "execution_count": 1,
   "metadata": {},
   "outputs": [
    {
     "name": "stdout",
     "output_type": "stream",
     "text": [
      "{\"tom\": {\"name\": \"tom\", \"address\": \"1 red street, NY\", \"phone\": 99999999}, \"bob\": {\"name\": \"bob\", \"address\": \"1 green street, NY\", \"phone\": 99999999}}\n"
     ]
    }
   ],
   "source": [
    "# Create address book and write some records into it \n",
    "book= {}\n",
    "book['tom']= {\n",
    "    'name': 'tom',\n",
    "    'address': '1 red street, NY',\n",
    "    'phone': 99999999\n",
    "}\n",
    "book['bob']= {\n",
    "    'name': 'bob',\n",
    "    'address': '1 green street, NY',\n",
    "    'phone': 99999999\n",
    "}\n",
    "\n",
    "import json\n",
    "s = json.dumps(book)\n",
    "print(s)"
   ]
  },
  {
   "cell_type": "code",
   "execution_count": null,
   "metadata": {},
   "outputs": [],
   "source": []
  }
 ],
 "metadata": {
  "kernelspec": {
   "display_name": "base",
   "language": "python",
   "name": "python3"
  },
  "language_info": {
   "codemirror_mode": {
    "name": "ipython",
    "version": 3
   },
   "file_extension": ".py",
   "mimetype": "text/x-python",
   "name": "python",
   "nbconvert_exporter": "python",
   "pygments_lexer": "ipython3",
   "version": "3.9.12"
  }
 },
 "nbformat": 4,
 "nbformat_minor": 2
}
